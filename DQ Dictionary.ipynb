{
 "cells": [
  {
   "cell_type": "code",
   "execution_count": 38,
   "metadata": {},
   "outputs": [
    {
     "data": {
      "text/plain": [
       "{'firstname': 'Anna', 'lastname': 'Carter', 'age': 32}"
      ]
     },
     "execution_count": 38,
     "metadata": {},
     "output_type": "execute_result"
    }
   ],
   "source": [
    "# change the age in the dictionary to 32\n",
    "person = {\n",
    "    'firstname': 'Anna',\n",
    "    'lastname': 'Carter',\n",
    "    'age': 30\n",
    "}\n",
    "\n",
    "person['age'] = 32\n",
    "person"
   ]
  },
  {
   "cell_type": "code",
   "execution_count": 39,
   "metadata": {},
   "outputs": [
    {
     "data": {
      "text/plain": [
       "['Katherine Freeman',\n",
       " 'Tammy Gonzalez',\n",
       " 'Robin Matthews',\n",
       " 'Sherry Farrell',\n",
       " 'Emma Graves',\n",
       " 'Tina Brown',\n",
       " 'George Owens',\n",
       " 'Ronald Ball']"
      ]
     },
     "execution_count": 39,
     "metadata": {},
     "output_type": "execute_result"
    }
   ],
   "source": [
    "# print out only the names inthe dictionay\n",
    "people = {\"Katherine Freeman\": \"katherine.freeman@hoffman.net\",\"Tammy Gonzalez\": \"tammy.gonzalez@gomez.info\",\n",
    "          \"Robin Matthews\": \"robin.matthews@leblanc-lyons.org\",\"Sherry Farrell\": \"sherry.farrell@reynolds-johnson.net\",\n",
    "          \"Emma Graves\": \"emma.graves@reid-little.info\",\"Tina Brown\": \"tina.brown@yahoo.com\",\n",
    "          \"George Owens\": \"george.owens@yahoo.com\",\"Ronald Ball\": \"ronald.ball@thomas.com\"}\n",
    "\n",
    "[name for name in people]"
   ]
  },
  {
   "cell_type": "code",
   "execution_count": 40,
   "metadata": {},
   "outputs": [
    {
     "data": {
      "text/plain": [
       "['Katherine Freeman',\n",
       " 'Tammy Gonzalez',\n",
       " 'Robin Matthews',\n",
       " 'Sherry Farrell',\n",
       " 'Emma Graves',\n",
       " 'Tina Brown',\n",
       " 'George Owens',\n",
       " 'Ronald Ball']"
      ]
     },
     "execution_count": 40,
     "metadata": {},
     "output_type": "execute_result"
    }
   ],
   "source": [
    "list(people.keys())"
   ]
  },
  {
   "cell_type": "code",
   "execution_count": 41,
   "metadata": {},
   "outputs": [
    {
     "data": {
      "text/plain": [
       "['katherine.freeman@hoffman.net',\n",
       " 'tammy.gonzalez@gomez.info',\n",
       " 'robin.matthews@leblanc-lyons.org',\n",
       " 'sherry.farrell@reynolds-johnson.net',\n",
       " 'emma.graves@reid-little.info',\n",
       " 'tina.brown@yahoo.com',\n",
       " 'george.owens@yahoo.com',\n",
       " 'ronald.ball@thomas.com']"
      ]
     },
     "execution_count": 41,
     "metadata": {},
     "output_type": "execute_result"
    }
   ],
   "source": [
    "# print out only the email from the dictionary\n",
    "group = [email for name, email in people.items()]\n",
    "group"
   ]
  },
  {
   "cell_type": "code",
   "execution_count": 44,
   "metadata": {},
   "outputs": [
    {
     "data": {
      "text/plain": [
       "[('Katherine Freeman', 'katherine.freeman@hoffman.net'),\n",
       " ('Tammy Gonzalez', 'tammy.gonzalez@gomez.info'),\n",
       " ('Robin Matthews', 'robin.matthews@leblanc-lyons.org'),\n",
       " ('Sherry Farrell', 'sherry.farrell@reynolds-johnson.net'),\n",
       " ('Emma Graves', 'emma.graves@reid-little.info'),\n",
       " ('Tina Brown', 'tina.brown@yahoo.com'),\n",
       " ('George Owens', 'george.owens@yahoo.com'),\n",
       " ('Ronald Ball', 'ronald.ball@thomas.com')]"
      ]
     },
     "execution_count": 44,
     "metadata": {},
     "output_type": "execute_result"
    }
   ],
   "source": [
    "# converting the dictionary to a list of tuples\n",
    "my_list = list(people.items())\n",
    "my_list"
   ]
  },
  {
   "cell_type": "code",
   "execution_count": 48,
   "metadata": {},
   "outputs": [
    {
     "data": {
      "text/plain": [
       "['katherine.freeman@hoffman.net',\n",
       " 'tammy.gonzalez@gomez.info',\n",
       " 'robin.matthews@leblanc-lyons.org',\n",
       " 'sherry.farrell@reynolds-johnson.net',\n",
       " 'emma.graves@reid-little.info',\n",
       " 'tina.brown@yahoo.com',\n",
       " 'george.owens@yahoo.com',\n",
       " 'ronald.ball@thomas.com']"
      ]
     },
     "execution_count": 48,
     "metadata": {},
     "output_type": "execute_result"
    }
   ],
   "source": [
    "# extracting the emails as a list\n",
    "my_lis = list(people.values())\n",
    "my_lis"
   ]
  },
  {
   "cell_type": "code",
   "execution_count": 50,
   "metadata": {},
   "outputs": [
    {
     "data": {
      "text/plain": [
       "dict_values(['katherine.freeman@hoffman.net', 'tammy.gonzalez@gomez.info', 'robin.matthews@leblanc-lyons.org', 'sherry.farrell@reynolds-johnson.net', 'emma.graves@reid-little.info', 'tina.brown@yahoo.com', 'george.owens@yahoo.com', 'ronald.ball@thomas.com'])"
      ]
     },
     "execution_count": 50,
     "metadata": {},
     "output_type": "execute_result"
    }
   ],
   "source": [
    "just_emails =people.values()\n",
    "just_emails"
   ]
  },
  {
   "cell_type": "code",
   "execution_count": 51,
   "metadata": {},
   "outputs": [],
   "source": [
    "keys = ['Katherine Freeman', 'Tammy Gonzalez', 'Robin Matthews', 'Sherry Farrell', 'Emma Graves', 'Tina Brown', \n",
    "        'George Owens', 'Ronald Ball']\n",
    "values = ['katherine.freeman@hoffman.net', 'tammy.gonzalez@gomez.info', 'robin.matthews@leblanc-lyons.org', \n",
    "          'sherry.farrell@reynolds-johnson.net', 'emma.graves@reid-little.info', 'tina.brown@yahoo.com', \n",
    "          'george.owens@yahoo.com', 'ronald.ball@thomas.com']"
   ]
  },
  {
   "cell_type": "code",
   "execution_count": 58,
   "metadata": {},
   "outputs": [
    {
     "data": {
      "text/plain": [
       "{'Katherine Freeman': 'katherine.freeman@hoffman.net',\n",
       " 'Tammy Gonzalez': 'tammy.gonzalez@gomez.info',\n",
       " 'Robin Matthews': 'robin.matthews@leblanc-lyons.org',\n",
       " 'Sherry Farrell': 'sherry.farrell@reynolds-johnson.net',\n",
       " 'Emma Graves': 'emma.graves@reid-little.info',\n",
       " 'Tina Brown': 'tina.brown@yahoo.com',\n",
       " 'George Owens': 'george.owens@yahoo.com',\n",
       " 'Ronald Ball': 'ronald.ball@thomas.com'}"
      ]
     },
     "execution_count": 58,
     "metadata": {},
     "output_type": "execute_result"
    }
   ],
   "source": [
    "# map the names to emails\n",
    "my_dict1 = {}\n",
    "for i in range(len(keys)):\n",
    "    my_dict1[keys[i]] = values[i]\n",
    "\n",
    "# Alternative answer 1\n",
    "#my_dict2 = {keys[i]: values[i] for i in range(len(keys))}\n",
    "#my_dict2\n",
    "\n",
    "# Alternative answer 2\n",
    "#my_dict3 = dict(zip(keys, values))\n",
    "#my_dicts3"
   ]
  },
  {
   "cell_type": "code",
   "execution_count": 61,
   "metadata": {},
   "outputs": [
    {
     "data": {
      "text/plain": [
       "'ogo@yahoo.com'"
      ]
     },
     "execution_count": 61,
     "metadata": {},
     "output_type": "execute_result"
    }
   ],
   "source": [
    "# email lookup from name\n",
    "from csv import reader\n",
    "# read the CSV file\n",
    "file = open(\"users.csv\")\n",
    "file_reader = reader(file)\n",
    "rows = list(file_reader)[1:] # ignore column headers\n",
    "file.close()\n",
    "# create an empty dictionary mapping names to emails\n",
    "name_to_email = {}\n",
    "# loop over the rows to populate the dictionary\n",
    "for row in rows:\n",
    "    # get the name and the email from the row\n",
    "    name = row[0]\n",
    "    email = row[1]\n",
    "    # make the name map to the email\n",
    "    name_to_email[name] = email\n",
    "    \n",
    "# lookup the email addresses\n",
    "name_to_email['ogo']"
   ]
  },
  {
   "cell_type": "code",
   "execution_count": 63,
   "metadata": {},
   "outputs": [
    {
     "name": "stdout",
     "output_type": "stream",
     "text": [
      "uwa\n"
     ]
    }
   ],
   "source": [
    "# reverse name lookup from mail\n",
    "# create an empty reverse dictionary\n",
    "email_to_name = {}\n",
    "# loop over all keys\n",
    "for name in name_to_email:\n",
    "    # obtain the email from the name\n",
    "    email = name_to_email[name]\n",
    "    # map the email to the name\n",
    "    email_to_name[email] = name\n",
    "\n",
    "name = email_to_name['uwa@yahoo.com']\n",
    "print(name)"
   ]
  },
  {
   "cell_type": "code",
   "execution_count": 64,
   "metadata": {},
   "outputs": [
    {
     "name": "stdout",
     "output_type": "stream",
     "text": [
      "the_room_temperature_is_12.5_degrees_celsius_but_outside_it_is_20.6_degrees\n"
     ]
    }
   ],
   "source": [
    "#clean the text file \"test to clean\" using the cleaning_dict.\n",
    "cleaning_dict = {'A': 'a', 'B': 'b', 'C': 'c', 'D': 'd', 'E': 'e', 'F': 'f', 'G': 'g', 'H': 'h', 'I': 'i', 'J': 'j', \n",
    "                 'K': 'k', 'L': 'l', 'M': 'm', 'N': 'n', 'O': 'o', 'P': 'p', 'Q': 'q', 'R': 'r', 'S': 's', 'T': 't', \n",
    "                 'U': 'u', 'V': 'v', 'W': 'w', 'X': 'x', 'Y': 'y', 'Z': 'z', ' ': '_', ',': '.'}\n",
    "text_to_clean = \"The roOm temPeraTUre is 12,5 deGrEes ceLSIus buT oUtsiDE iT IS 20.6 degreeS\"\n",
    "cleaned_text = \"\"\n",
    "for cur in text_to_clean:\n",
    "    if cur in cleaning_dict:\n",
    "        cleaned_text += cleaning_dict[cur]\n",
    "    else:\n",
    "        cleaned_text += cur\n",
    "print(cleaned_text)"
   ]
  },
  {
   "cell_type": "code",
   "execution_count": 70,
   "metadata": {},
   "outputs": [
    {
     "name": "stdout",
     "output_type": "stream",
     "text": [
      "Canton\n"
     ]
    }
   ],
   "source": [
    "# we are interested in finding out which neighborhoods have the most restaurants.\n",
    "from csv import reader\n",
    "# read the CSV file\n",
    "file = open(\"restaurants.csv\")\n",
    "file_reader = reader(file)\n",
    "rows = list(file_reader)[1:] # ignore column headers\n",
    "# create the frequency table\n",
    "count = {}\n",
    "for row in rows:\n",
    "    neighborhood = row[1]\n",
    "    if neighborhood in count:\n",
    "        count[neighborhood] += 1\n",
    "    else:\n",
    "        count[neighborhood] = 1\n",
    "# compute the maximum frequency and the correspoding restaurant\n",
    "maximum = 0\n",
    "most_restaurants = None\n",
    "for neighborhood in count:\n",
    "    # check whether the current neighborhood has more restaurant than\n",
    "    # the current maximum. If so, update the maximum and the most_restaurants variable\n",
    "    if maximum < count[neighborhood]:\n",
    "        maximum = count[neighborhood]\n",
    "        most_restaurants = neighborhood\n",
    "print(most_restaurants)"
   ]
  },
  {
   "cell_type": "code",
   "execution_count": 71,
   "metadata": {},
   "outputs": [
    {
     "name": "stdout",
     "output_type": "stream",
     "text": [
      "None\n",
      "None\n"
     ]
    }
   ],
   "source": [
    "#  find two laptops on the list, such that their total price is exactly $5,000.\n",
    "from csv import reader\n",
    "# read the CSV file\n",
    "file = open(\"laptop.csv\")\n",
    "file_reader = reader(file)\n",
    "rows = list(file_reader)[1:] # ignore column headers\n",
    "# create the dictionary mapping the prices to the laptop names\n",
    "price_to_name = {}\n",
    "for row in rows:\n",
    "    price = int(row[2])\n",
    "    name = row[1]\n",
    "    if price in price_to_name:\n",
    "        price_to_name[price].append(name)\n",
    "    else:\n",
    "        price_to_name[price] = [name]\n",
    "# initialize the two laptops in the answer to None\n",
    "laptop1 = None\n",
    "laptop2 = None\n",
    "# look for a solution\n",
    "for row in rows:\n",
    "    price = int(row[2])\n",
    "    # this laptop's cost is price, so if there is a laptop that \n",
    "    # costs 5000 - price then their total price is exactly 5000\n",
    "    if price == 2500 and len(price_to_name[2500]) >= 2:\n",
    "        laptop1 = price_to_name[2500][0]\n",
    "        laptop2 = price_to_name[2500][1]\n",
    "    elif 5000 - price in price_to_name:\n",
    "        laptop1 = price_to_name[price][0]\n",
    "        laptop2 = price_to_name[5000 - price][0]\n",
    "        print(price)\n",
    "# print the solution\n",
    "print(laptop1)\n",
    "print(laptop2)"
   ]
  },
  {
   "cell_type": "code",
   "execution_count": null,
   "metadata": {},
   "outputs": [],
   "source": []
  }
 ],
 "metadata": {
  "kernelspec": {
   "display_name": "Python 3",
   "language": "python",
   "name": "python3"
  },
  "language_info": {
   "codemirror_mode": {
    "name": "ipython",
    "version": 3
   },
   "file_extension": ".py",
   "mimetype": "text/x-python",
   "name": "python",
   "nbconvert_exporter": "python",
   "pygments_lexer": "ipython3",
   "version": "3.7.6"
  }
 },
 "nbformat": 4,
 "nbformat_minor": 4
}
